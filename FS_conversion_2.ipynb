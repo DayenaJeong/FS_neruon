{
  "nbformat": 4,
  "nbformat_minor": 0,
  "metadata": {
    "colab": {
      "provenance": [],
      "gpuType": "T4",
      "authorship_tag": "ABX9TyPpGzh2xRa7AJ+/XziwCSn9",
      "include_colab_link": true
    },
    "kernelspec": {
      "name": "python3",
      "display_name": "Python 3"
    },
    "language_info": {
      "name": "python"
    },
    "accelerator": "GPU"
  },
  "cells": [
    {
      "cell_type": "markdown",
      "metadata": {
        "id": "view-in-github",
        "colab_type": "text"
      },
      "source": [
        "<a href=\"https://colab.research.google.com/github/DayenaJeong/FS_neruon/blob/main/FS_conversion_2.ipynb\" target=\"_parent\"><img src=\"https://colab.research.google.com/assets/colab-badge.svg\" alt=\"Open In Colab\"/></a>"
      ]
    },
    {
      "cell_type": "code",
      "execution_count": 2,
      "metadata": {
        "id": "1ax3ACpN2IIH"
      },
      "outputs": [],
      "source": [
        "import torch\n",
        "import torch.nn as nn\n",
        "import torch.optim as optim\n",
        "import torch.autograd as autograd\n",
        "import matplotlib.pyplot as plt\n",
        "import numpy as np"
      ]
    },
    {
      "cell_type": "code",
      "source": [
        "def relu(x):\n",
        "    return np.maximum(0, x)\n",
        "\n",
        "\n",
        "def sigmoid(x):\n",
        "    return 1 / (1 + np.exp(-x))\n",
        "\n",
        "\n",
        "def swish(x):\n",
        "    return x * 1 / (1 + np.exp(-x))\n",
        "\n",
        "\n",
        "def gelu(x):\n",
        "    return 0.5 * x * (1 + np.tanh(np.sqrt(2 / np.pi) * (x + 0.044715 * np.power(x, 3))))\n",
        "\n",
        "\n",
        "def softplus(x, beta=1):\n",
        "    return (1 / beta) * np.log(1 + np.exp(beta * x))\n",
        "\n",
        "\n",
        "def mish(x, beta=1):\n",
        "    return x * np.tanh(softplus(x, beta))"
      ],
      "metadata": {
        "id": "yBp7GfIK2L4c"
      },
      "execution_count": 3,
      "outputs": []
    },
    {
      "cell_type": "code",
      "source": [
        "# Implementation of spike function for PyTorch custom gradient\n",
        "class SpikeFunction(autograd.Function):\n",
        "    @staticmethod\n",
        "    def forward(ctx, v_scaled):\n",
        "        z_ = torch.where(v_scaled > 0, torch.ones_like(v_scaled), torch.zeros_like(v_scaled))\n",
        "        ctx.save_for_backward(v_scaled)\n",
        "        return z_\n",
        "\n",
        "    @staticmethod\n",
        "    def backward(ctx, grad_output):\n",
        "        v_scaled, = ctx.saved_tensors\n",
        "        dz_dv_scaled = torch.maximum(1 - torch.abs(v_scaled), torch.tensor(0.0, device=v_scaled.device))\n",
        "        dE_dv_scaled = grad_output * dz_dv_scaled\n",
        "        return dE_dv_scaled\n",
        "\n",
        "# Call spike function for PyTorch\n",
        "def spike_function(v_scaled):\n",
        "    return SpikeFunction.apply(v_scaled)\n",
        "\n",
        "# FS class definition\n",
        "class FS(nn.Module):\n",
        "    def __init__(self, input_dim, k_neurons, num_params):\n",
        "        super(FS, self).__init__()\n",
        "        self.k_neurons = k_neurons\n",
        "\n",
        "        # Define FS parameters (now as learnable parameters)\n",
        "        self.h = nn.Parameter(torch.abs(torch.randn(num_params)))\n",
        "        self.d = nn.Parameter(torch.abs(torch.randn(num_params)))\n",
        "        self.T = nn.Parameter(torch.randn(num_params))\n",
        "\n",
        "        # Add trainable parameters\n",
        "        self.linear = nn.Linear(input_dim, k_neurons)\n",
        "\n",
        "        # Additional linear layer for final output\n",
        "        self.final_linear = nn.Linear(k_neurons, 1)\n",
        "\n",
        "    def forward(self, x):\n",
        "        # Apply linear transformation\n",
        "        v = self.linear(x)\n",
        "\n",
        "        # Initialize temporary output for FS spike neural network\n",
        "        temp_out = torch.zeros_like(v)\n",
        "\n",
        "        # Implement FS spike neural network\n",
        "        for t in range(len(self.T)):\n",
        "            v_scaled = (v - self.T[t]) / (torch.abs(v) + 1)\n",
        "            z = spike_function(v_scaled)\n",
        "            temp_out += z * self.d[t]\n",
        "            v = v - z * self.h[t]\n",
        "\n",
        "        # Apply additional linear layer for final output\n",
        "        out = self.final_linear(temp_out)\n",
        "\n",
        "        return out"
      ],
      "metadata": {
        "id": "ybDTMeqS2Oq2"
      },
      "execution_count": 4,
      "outputs": []
    },
    {
      "cell_type": "markdown",
      "source": [
        "Sigmoid"
      ],
      "metadata": {
        "id": "jq57_yw-2WE2"
      }
    },
    {
      "cell_type": "code",
      "source": [
        "# Instantiate model and initial setup\n",
        "input_dim = 1\n",
        "k_neurons = 16  # Select arbitrary number of neurons\n",
        "num_params = 16  # Select arbitrary number of parameters\n",
        "model = FS(input_dim, k_neurons, num_params)\n",
        "\n",
        "# Loss function and optimizer\n",
        "criterion = nn.MSELoss()\n",
        "optimizer = optim.SGD(model.parameters(), lr=0.01)\n",
        "\n",
        "# Training data\n",
        "x_train = torch.linspace(-5, 5, steps=100).unsqueeze(1)  # Input\n",
        "y_train = sigmoid(x_train)  # Target value\n",
        "\n",
        "torch.autograd.set_detect_anomaly(True)\n",
        "\n",
        "# Training loop\n",
        "epochs = 10000\n",
        "for epoch in range(epochs):\n",
        "    optimizer.zero_grad()  # Reset gradients\n",
        "    y_pred = model(x_train)  # Forward pass\n",
        "    loss = criterion(y_pred, y_train)  # Remove `.squeeze()` call\n",
        "    loss.backward()  # Backpropagation\n",
        "    optimizer.step()  # Update weights\n",
        "\n",
        "    # Print loss every 100 epochs\n",
        "    if epoch % 100 == 0:\n",
        "       print(f'Epoch {epoch + 1}/{epochs}, Loss: {loss.item()}')\n",
        "\n",
        "# Print final loss\n",
        "print(f'Final Loss: {loss.item()}')\n",
        "\n",
        "# Calculate model predictions\n",
        "with torch.no_grad():  # No gradient computation needed\n",
        "    y_pred = model(x_train).squeeze()\n",
        "\n",
        "# True function values\n",
        "y_true = sigmoid(x_train).squeeze()\n",
        "\n",
        "# Plotting\n",
        "plt.figure(figsize=(10, 6))\n",
        "plt.plot(x_train.numpy(), y_true.numpy(), label='True Sigmoid Function', color='r')\n",
        "plt.plot(x_train.numpy(), y_pred.numpy(), label='Model Prediction', linestyle='--', color='b')\n",
        "plt.title('Comparison between True Sigmoid Function and Model Prediction')\n",
        "plt.xlabel('Input x')\n",
        "plt.ylabel('Output y')\n",
        "plt.legend()\n",
        "\n",
        "plt.show()"
      ],
      "metadata": {
        "id": "hG8kLvLn2Tk1"
      },
      "execution_count": null,
      "outputs": []
    },
    {
      "cell_type": "markdown",
      "source": [
        "GeLU"
      ],
      "metadata": {
        "id": "iR7d1Cmk2ZFI"
      }
    },
    {
      "cell_type": "code",
      "source": [
        "# Instantiate model and initial setup\n",
        "input_dim = 1\n",
        "k_neurons = 16  # Select arbitrary number of neurons\n",
        "num_params = 16  # Select arbitrary number of parameters\n",
        "model = FS(input_dim, k_neurons, num_params)\n",
        "\n",
        "# Loss function and optimizer\n",
        "criterion = nn.MSELoss()\n",
        "optimizer = optim.SGD(model.parameters(), lr=0.01)\n",
        "\n",
        "# Training data\n",
        "x_train = torch.linspace(-10, 10, steps=100).unsqueeze(1)  # Input\n",
        "y_train = gelu(x_train)  # Target value\n",
        "\n",
        "torch.autograd.set_detect_anomaly(True)\n",
        "\n",
        "# Training loop\n",
        "epochs = 10000\n",
        "for epoch in range(epochs):\n",
        "    optimizer.zero_grad()  # Reset gradients\n",
        "    y_pred = model(x_train)  # Forward pass\n",
        "    loss = criterion(y_pred, y_train)  # Remove `.squeeze()` call\n",
        "    loss.backward()  # Backpropagation\n",
        "    optimizer.step()  # Update weights\n",
        "\n",
        "    # Print loss every 100 epochs\n",
        "    if epoch % 100 == 0:\n",
        "       print(f'Epoch {epoch + 1}/{epochs}, Loss: {loss.item()}')\n",
        "\n",
        "# Print final loss\n",
        "print(f'Final Loss: {loss.item()}')\n",
        "\n",
        "# Calculate model predictions\n",
        "with torch.no_grad():  # No gradient computation needed\n",
        "    y_pred = model(x_train).squeeze()\n",
        "\n",
        "# True function values\n",
        "y_true = gelu(x_train).squeeze()\n",
        "\n",
        "# Plotting\n",
        "plt.figure(figsize=(8, 6))\n",
        "plt.plot(x_train.numpy(), y_true.numpy(), label='True GeLU Function', color='r')\n",
        "plt.plot(x_train.numpy(), y_pred.numpy(), label='Model Prediction', linestyle='--', color='b')\n",
        "plt.title('Comparison between True GeLU Function and Model Prediction')\n",
        "plt.xlabel('Input x')\n",
        "plt.ylabel('Output y')\n",
        "plt.legend()\n",
        "\n",
        "plt.show()"
      ],
      "metadata": {
        "id": "PmCu8aOx2UBW"
      },
      "execution_count": null,
      "outputs": []
    },
    {
      "cell_type": "code",
      "source": [
        "# Instantiate model and initial setup\n",
        "input_dim = 1\n",
        "k_neurons = 4  # Select arbitrary number of neurons\n",
        "num_params = 4  # Select arbitrary number of parameters\n",
        "model = FS(input_dim, k_neurons, num_params)\n",
        "\n",
        "# Loss function and optimizer\n",
        "criterion = nn.MSELoss()\n",
        "optimizer = optim.SGD(model.parameters(), lr=0.01)\n",
        "\n",
        "# Training data\n",
        "x_train = torch.linspace(-10, 10, steps=100).unsqueeze(1)  # Input\n",
        "y_train = softplus(x_train)  # Target value\n",
        "\n",
        "torch.autograd.set_detect_anomaly(True)\n",
        "\n",
        "loss_values = []\n",
        "\n",
        "# Training loop\n",
        "epochs = 100000\n",
        "for epoch in range(epochs):\n",
        "    optimizer.zero_grad()  # Reset gradients\n",
        "    y_pred = model(x_train)  # Forward pass\n",
        "    loss = criterion(y_pred, y_train)  # Remove `.squeeze()` call\n",
        "    loss.backward()  # Backpropagation\n",
        "    optimizer.step()  # Update weights\n",
        "\n",
        "    # Print loss every 1000 epochs\n",
        "    if epoch % 1000 == 0:\n",
        "       print(f'Epoch {epoch + 1}/{epochs}, Loss: {loss.item()}')\n",
        "\n",
        "    if epoch % 200 == 0:\n",
        "       loss_values.append(loss.item())\n",
        "\n",
        "# Print final loss\n",
        "print(\"Loss values:\", loss_values)\n",
        "print(f'Final Loss: {loss.item()}')\n",
        "print(f'Final h: {model.h.data}')\n",
        "print(f'Final d: {model.d.data}')\n",
        "print(f'Final T: {model.T.data}')\n",
        "\n",
        "# Calculate model predictions\n",
        "with torch.no_grad():  # No gradient computation needed\n",
        "    y_pred = model(x_train).squeeze()\n",
        "\n",
        "# True function values\n",
        "y_true = softplus(x_train).squeeze()\n",
        "\n",
        "# Plotting\n",
        "plt.figure(figsize=(8, 6))\n",
        "plt.plot(x_train.numpy(), y_true.numpy(), label='True Softplus Function', color='r')\n",
        "plt.plot(x_train.numpy(), y_pred.numpy(), label='Model Prediction', linestyle='--', color='b')\n",
        "plt.title('Comparison between True Softplus Function and Model Prediction(K=4)')\n",
        "plt.xlabel('Input x')\n",
        "plt.ylabel('Output y')\n",
        "plt.legend()\n",
        "\n",
        "plt.show()"
      ],
      "metadata": {
        "colab": {
          "base_uri": "https://localhost:8080/"
        },
        "id": "ARdl8TrF76gL",
        "outputId": "d29a8c9f-4a28-4553-e5be-8df72ebac9e6"
      },
      "execution_count": null,
      "outputs": [
        {
          "output_type": "stream",
          "name": "stdout",
          "text": [
            "Epoch 1/100000, Loss: 22.307052612304688\n",
            "Epoch 1001/100000, Loss: 0.10722210258245468\n",
            "Epoch 2001/100000, Loss: 0.06375560164451599\n",
            "Epoch 3001/100000, Loss: 0.048473551869392395\n",
            "Epoch 4001/100000, Loss: 0.04832608997821808\n",
            "Epoch 5001/100000, Loss: 0.04657797887921333\n",
            "Epoch 6001/100000, Loss: 0.050552286207675934\n"
          ]
        }
      ]
    },
    {
      "cell_type": "code",
      "source": [],
      "metadata": {
        "id": "gMYP-_d2YWaP"
      },
      "execution_count": null,
      "outputs": []
    }
  ]
}